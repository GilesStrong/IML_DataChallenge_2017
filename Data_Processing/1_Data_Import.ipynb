{
 "cells": [
  {
   "cell_type": "markdown",
   "metadata": {},
   "source": [
    "# Import data, compute features, train-val split, feature selection, pre-process, & save\n",
    "## Import\n",
    "### Modules"
   ]
  },
  {
   "cell_type": "code",
   "execution_count": 10,
   "metadata": {},
   "outputs": [],
   "source": [
    "from __future__ import division\n",
    "%matplotlib inline\n",
    "import sys\n",
    "sys.path.append('../')\n",
    "from Modules.Basics import *\n",
    "from Modules.Class_Features import *\n",
    "from ML_Tools.General.Feature_Selection import *\n",
    "from ML_Tools.Transformations.HEP_Proc import *\n",
    "import uproot"
   ]
  },
  {
   "cell_type": "markdown",
   "metadata": {},
   "source": [
    "## Feature processing"
   ]
  },
  {
   "cell_type": "code",
   "execution_count": 2,
   "metadata": {},
   "outputs": [],
   "source": [
    "rotate = False\n",
    "cartesian = False\n",
    "useTrackFeatures = True\n",
    "useTowerFeatures = True\n",
    "features = ['jetPt',\n",
    " 'jetEta',\n",
    " 'jetMass',\n",
    " 'ntracks',\n",
    " 'ntowers']\n",
    "\n",
    "normIn = True\n",
    "pca = True"
   ]
  },
  {
   "cell_type": "code",
   "execution_count": 3,
   "metadata": {},
   "outputs": [],
   "source": [
    "def trackFeatures(inData):\n",
    "    inData[\"min_track_pT\"] = -1\n",
    "    inData.loc[inData.ntracks > 0, \"min_track_pT\"] = inData.loc[inData.ntracks > 0, \"trackPt\"].apply(np.min)\n",
    "    \n",
    "    inData[\"mean_track_pT\"] = -1\n",
    "    inData.loc[inData.ntracks > 0, \"mean_track_pT\"] = inData.loc[inData.ntracks > 0, \"trackPt\"].apply(np.mean)\n",
    "    \n",
    "    inData[\"max_track_pT\"] = -1\n",
    "    inData.loc[inData.ntracks > 0, \"max_track_pT\"] = inData.loc[inData.ntracks > 0, \"trackPt\"].apply(np.max)\n",
    "    \n",
    "    inData[\"sum_track_pT\"] = -1\n",
    "    inData.loc[inData.ntracks > 0, \"sum_track_pT\"] = inData.loc[inData.ntracks > 0,\"trackPt\"].apply(np.sum)\n",
    "    \n",
    "    inData[\"abs_track_eta\"] = -1\n",
    "    inData.loc[inData.ntracks > 0, \"abs_track_eta\"] = inData.loc[inData.ntracks > 0, \"trackEta\"].apply(np.abs)\n",
    "    \n",
    "    inData[\"min_track_eta\"] = -1\n",
    "    inData.loc[inData.ntracks > 0, \"min_track_eta\"] = inData.loc[inData.ntracks > 0, \"abs_track_eta\"].apply(np.min)\n",
    "    \n",
    "    inData[\"mean_track_eta\"] = -1\n",
    "    inData.loc[inData.ntracks > 0, \"mean_track_eta\"] = inData.loc[inData.ntracks > 0, \"trackEta\"].apply(np.mean)\n",
    "    \n",
    "    inData[\"max_track_eta\"] = -1\n",
    "    inData.loc[inData.ntracks > 0, \"max_track_eta\"] = inData.loc[inData.ntracks > 0, \"abs_track_eta\"].apply(np.max)\n",
    "    \n",
    "    inData[\"mean_track_charge\"] = -1\n",
    "    inData.loc[\"mean_track_charge\"] = inData.loc[inData.ntracks > 0, \"trackCharge\"].apply(np.mean)\n",
    "    "
   ]
  },
  {
   "cell_type": "code",
   "execution_count": 4,
   "metadata": {},
   "outputs": [],
   "source": [
    "def towerFeatures(inData):\n",
    "    inData[\"min_tower_E\"] = -1\n",
    "    inData.loc[inData.ntowers > 0, \"min_tower_E\"] = inData.loc[inData.ntowers > 0, \"towerE\"].apply(np.min)\n",
    "    \n",
    "    inData[\"mean_tower_E\"] = -1\n",
    "    inData.loc[inData.ntowers > 0, \"mean_tower_E\"] = inData.loc[inData.ntowers > 0, \"towerE\"].apply(np.mean)\n",
    "    \n",
    "    inData[\"max_tower_E\"] = -1\n",
    "    inData.loc[inData.ntowers > 0, \"max_tower_E\"] = inData.loc[inData.ntowers > 0, \"towerE\"].apply(np.max)\n",
    "    \n",
    "    inData[\"sum_tower_E\"] = -1\n",
    "    inData.loc[inData.ntowers > 0, \"sum_tower_E\"] = inData.loc[inData.ntowers > 0, \"towerE\"].apply(np.sum)\n",
    "    \n",
    "    inData[\"min_tower_Eem\"] = -1\n",
    "    inData.loc[inData.ntowers > 0, \"min_tower_Eem\"] = inData.loc[inData.ntowers > 0, \"towerEem\"].apply(np.min)\n",
    "    \n",
    "    inData[\"mean_tower_Eem\"] = -1\n",
    "    inData.loc[inData.ntowers > 0, \"mean_tower_Eem\"] = inData.loc[inData.ntowers > 0, \"towerEem\"].apply(np.mean)\n",
    "    \n",
    "    inData[\"max_tower_Eem\"] = -1\n",
    "    inData.loc[inData.ntowers > 0, \"max_tower_Eem\"] = inData.loc[inData.ntowers > 0, \"towerEem\"].apply(np.max)\n",
    "    \n",
    "    inData[\"sum_tower_Eem\"] = -1\n",
    "    inData.loc[inData.ntowers > 0, \"sum_tower_Eem\"] = inData.loc[inData.ntowers > 0, \"towerEem\"].apply(np.sum)\n",
    "    \n",
    "    inData[\"min_tower_Ehad\"] = -1\n",
    "    inData.loc[inData.ntowers > 0, \"min_tower_Ehad\"] = inData.loc[inData.ntowers > 0, \"towerEhad\"].apply(np.min)\n",
    "    \n",
    "    inData[\"mean_tower_Ehad\"] = -1\n",
    "    inData.loc[inData.ntowers > 0,\"mean_tower_Ehad\"] = inData.loc[inData.ntowers > 0,\"towerEhad\"].apply(np.mean)\n",
    "    \n",
    "    inData[\"max_tower_Ehad\"] = -1\n",
    "    inData.loc[inData.ntowers > 0,\"max_tower_Ehad\"] = inData.loc[inData.ntowers > 0,\"towerEhad\"].apply(np.max)\n",
    "    \n",
    "    inData[\"sum_tower_Ehad\"] = -1\n",
    "    inData.loc[inData.ntowers > 0,\"sum_tower_Ehad\"] = inData.loc[inData.ntowers > 0,\"towerEhad\"].apply(np.sum)\n",
    "    \n",
    "    inData[\"tower_Eem_frac\"] = -1\n",
    "    inData.loc[inData.ntowers > 0,\"tower_Eem_frac\"] = inData.loc[inData.ntowers > 0, \"sum_tower_Eem\"]/inData.loc[inData.ntowers > 0, \"sum_tower_E\"]\n",
    "    \n",
    "    inData[\"tower_Ehad_frac\"] = -1\n",
    "    inData.loc[inData.ntowers > 0,\"tower_Ehad_frac\"] = inData.loc[inData.ntowers > 0, \"sum_tower_Ehad\"]/inData.loc[inData.ntowers > 0, \"sum_tower_E\"]\n",
    "    \n",
    "    inData[\"min_tower_eta\"] = -1\n",
    "    inData.loc[inData.ntowers > 0,\"min_tower_eta\"] = inData.loc[inData.ntowers > 0,\"towerEta\"].apply(np.min)\n",
    "    \n",
    "    inData[\"mean_tower_eta\"] = -1\n",
    "    inData.loc[inData.ntowers > 0,\"mean_tower_eta\"] = inData.loc[inData.ntowers > 0,\"towerEta\"].apply(np.mean)\n",
    "    \n",
    "    inData[\"max_tower_eta\"] = -1\n",
    "    inData.loc[inData.ntowers > 0,\"max_tower_eta\"] = inData.loc[inData.ntowers > 0,\"towerEta\"].apply(np.max)"
   ]
  },
  {
   "cell_type": "code",
   "execution_count": 5,
   "metadata": {},
   "outputs": [],
   "source": [
    "def getBatch(sample, mode, batch, nBatches):\n",
    "    f = uproot.open(dirLoc + sample + '_' + mode + '.root')['treeJets']\n",
    "    totalSize = len(f)\n",
    "    batchSize = math.floor(totalSize/nBatches)\n",
    "    data = f.pandas.df(entrystart=batchSize*batch, entrystop=batchSize*(batch+1))\n",
    "    if useTowerFeatures: towerFeatures(data)\n",
    "    if useTrackFeatures: trackFeatures(data)\n",
    "    data.drop(columns=['trackPt', 'trackEta', 'trackPhi', 'trackCharge', 'towerE','towerEem', 'towerEhad', 'towerEta', 'towerPhi', 'abs_track_eta'], inplace=True)\n",
    "    data.replace([np.inf, -np.inf], np.nan, inplace=True)\n",
    "    #print \"NaNs\", data.columns[data.isnull().any()].tolist()\n",
    "    data.dropna(inplace=True) \n",
    "    return data"
   ]
  },
  {
   "cell_type": "markdown",
   "metadata": {},
   "source": [
    "##  Feature selection"
   ]
  },
  {
   "cell_type": "code",
   "execution_count": 6,
   "metadata": {},
   "outputs": [],
   "source": [
    "gluons = getBatch('gluons', 'standard', 75, 100)\n",
    "quarks = getBatch('quarks', 'standard', 75, 100)\n",
    "gluons['gen_target'] = getTarget('gluon')\n",
    "quarks['gen_target'] = getTarget('quark')\n",
    "batch = gluons.append(quarks, ignore_index=True)\n",
    "batch = batch.sample(frac=1).reset_index(drop=True)"
   ]
  },
  {
   "cell_type": "code",
   "execution_count": 7,
   "metadata": {},
   "outputs": [
    {
     "data": {
      "text/html": [
       "<div>\n",
       "<style scoped>\n",
       "    .dataframe tbody tr th:only-of-type {\n",
       "        vertical-align: middle;\n",
       "    }\n",
       "\n",
       "    .dataframe tbody tr th {\n",
       "        vertical-align: top;\n",
       "    }\n",
       "\n",
       "    .dataframe thead th {\n",
       "        text-align: right;\n",
       "    }\n",
       "</style>\n",
       "<table border=\"1\" class=\"dataframe\">\n",
       "  <thead>\n",
       "    <tr style=\"text-align: right;\">\n",
       "      <th></th>\n",
       "      <th>jetPt</th>\n",
       "      <th>jetEta</th>\n",
       "      <th>jetPhi</th>\n",
       "      <th>jetMass</th>\n",
       "      <th>ntracks</th>\n",
       "      <th>ntowers</th>\n",
       "      <th>min_tower_E</th>\n",
       "      <th>mean_tower_E</th>\n",
       "      <th>max_tower_E</th>\n",
       "      <th>sum_tower_E</th>\n",
       "      <th>...</th>\n",
       "      <th>max_tower_eta</th>\n",
       "      <th>min_track_pT</th>\n",
       "      <th>mean_track_pT</th>\n",
       "      <th>max_track_pT</th>\n",
       "      <th>sum_track_pT</th>\n",
       "      <th>min_track_eta</th>\n",
       "      <th>mean_track_eta</th>\n",
       "      <th>max_track_eta</th>\n",
       "      <th>mean_track_charge</th>\n",
       "      <th>gen_target</th>\n",
       "    </tr>\n",
       "  </thead>\n",
       "  <tbody>\n",
       "    <tr>\n",
       "      <th>0</th>\n",
       "      <td>100.197922</td>\n",
       "      <td>2.432279</td>\n",
       "      <td>0.993638</td>\n",
       "      <td>7.065969</td>\n",
       "      <td>6.0</td>\n",
       "      <td>7.0</td>\n",
       "      <td>2.023126</td>\n",
       "      <td>47.477852</td>\n",
       "      <td>187.959900</td>\n",
       "      <td>332.344971</td>\n",
       "      <td>...</td>\n",
       "      <td>2.603429</td>\n",
       "      <td>1.318284</td>\n",
       "      <td>6.979834</td>\n",
       "      <td>17.388475</td>\n",
       "      <td>41.879005</td>\n",
       "      <td>2.388552</td>\n",
       "      <td>2.454205</td>\n",
       "      <td>2.553548</td>\n",
       "      <td>-1.0</td>\n",
       "      <td>1</td>\n",
       "    </tr>\n",
       "    <tr>\n",
       "      <th>1</th>\n",
       "      <td>100.274712</td>\n",
       "      <td>-0.672284</td>\n",
       "      <td>0.246772</td>\n",
       "      <td>19.914286</td>\n",
       "      <td>13.0</td>\n",
       "      <td>8.0</td>\n",
       "      <td>0.563475</td>\n",
       "      <td>7.839329</td>\n",
       "      <td>24.328726</td>\n",
       "      <td>62.714630</td>\n",
       "      <td>...</td>\n",
       "      <td>-0.519335</td>\n",
       "      <td>1.024813</td>\n",
       "      <td>4.018611</td>\n",
       "      <td>14.103094</td>\n",
       "      <td>52.241940</td>\n",
       "      <td>0.442130</td>\n",
       "      <td>-0.656669</td>\n",
       "      <td>0.957972</td>\n",
       "      <td>-1.0</td>\n",
       "      <td>0</td>\n",
       "    </tr>\n",
       "    <tr>\n",
       "      <th>2</th>\n",
       "      <td>121.497414</td>\n",
       "      <td>1.995268</td>\n",
       "      <td>2.058515</td>\n",
       "      <td>19.822773</td>\n",
       "      <td>17.0</td>\n",
       "      <td>20.0</td>\n",
       "      <td>0.642488</td>\n",
       "      <td>6.343688</td>\n",
       "      <td>36.468842</td>\n",
       "      <td>126.873764</td>\n",
       "      <td>...</td>\n",
       "      <td>2.306697</td>\n",
       "      <td>0.559147</td>\n",
       "      <td>5.195300</td>\n",
       "      <td>19.214205</td>\n",
       "      <td>88.320099</td>\n",
       "      <td>1.697378</td>\n",
       "      <td>1.974619</td>\n",
       "      <td>2.189453</td>\n",
       "      <td>-1.0</td>\n",
       "      <td>1</td>\n",
       "    </tr>\n",
       "    <tr>\n",
       "      <th>3</th>\n",
       "      <td>103.889732</td>\n",
       "      <td>0.824112</td>\n",
       "      <td>0.873630</td>\n",
       "      <td>16.122980</td>\n",
       "      <td>8.0</td>\n",
       "      <td>4.0</td>\n",
       "      <td>1.327044</td>\n",
       "      <td>10.377432</td>\n",
       "      <td>28.552814</td>\n",
       "      <td>41.509727</td>\n",
       "      <td>...</td>\n",
       "      <td>1.080709</td>\n",
       "      <td>0.767519</td>\n",
       "      <td>9.234488</td>\n",
       "      <td>48.947105</td>\n",
       "      <td>73.875900</td>\n",
       "      <td>0.749554</td>\n",
       "      <td>0.961637</td>\n",
       "      <td>1.193328</td>\n",
       "      <td>-1.0</td>\n",
       "      <td>1</td>\n",
       "    </tr>\n",
       "    <tr>\n",
       "      <th>4</th>\n",
       "      <td>103.436089</td>\n",
       "      <td>1.116343</td>\n",
       "      <td>0.897115</td>\n",
       "      <td>4.901496</td>\n",
       "      <td>4.0</td>\n",
       "      <td>6.0</td>\n",
       "      <td>0.946722</td>\n",
       "      <td>20.377319</td>\n",
       "      <td>97.073204</td>\n",
       "      <td>122.263916</td>\n",
       "      <td>...</td>\n",
       "      <td>1.238522</td>\n",
       "      <td>2.033751</td>\n",
       "      <td>7.944368</td>\n",
       "      <td>12.234118</td>\n",
       "      <td>31.777473</td>\n",
       "      <td>1.060365</td>\n",
       "      <td>1.101976</td>\n",
       "      <td>1.130678</td>\n",
       "      <td>-1.0</td>\n",
       "      <td>0</td>\n",
       "    </tr>\n",
       "  </tbody>\n",
       "</table>\n",
       "<p>5 rows × 32 columns</p>\n",
       "</div>"
      ],
      "text/plain": [
       "        jetPt    jetEta    jetPhi    jetMass  ntracks  ntowers  min_tower_E  \\\n",
       "0  100.197922  2.432279  0.993638   7.065969      6.0      7.0     2.023126   \n",
       "1  100.274712 -0.672284  0.246772  19.914286     13.0      8.0     0.563475   \n",
       "2  121.497414  1.995268  2.058515  19.822773     17.0     20.0     0.642488   \n",
       "3  103.889732  0.824112  0.873630  16.122980      8.0      4.0     1.327044   \n",
       "4  103.436089  1.116343  0.897115   4.901496      4.0      6.0     0.946722   \n",
       "\n",
       "   mean_tower_E  max_tower_E  sum_tower_E     ...      max_tower_eta  \\\n",
       "0     47.477852   187.959900   332.344971     ...           2.603429   \n",
       "1      7.839329    24.328726    62.714630     ...          -0.519335   \n",
       "2      6.343688    36.468842   126.873764     ...           2.306697   \n",
       "3     10.377432    28.552814    41.509727     ...           1.080709   \n",
       "4     20.377319    97.073204   122.263916     ...           1.238522   \n",
       "\n",
       "   min_track_pT  mean_track_pT  max_track_pT  sum_track_pT  min_track_eta  \\\n",
       "0      1.318284       6.979834     17.388475     41.879005       2.388552   \n",
       "1      1.024813       4.018611     14.103094     52.241940       0.442130   \n",
       "2      0.559147       5.195300     19.214205     88.320099       1.697378   \n",
       "3      0.767519       9.234488     48.947105     73.875900       0.749554   \n",
       "4      2.033751       7.944368     12.234118     31.777473       1.060365   \n",
       "\n",
       "   mean_track_eta  max_track_eta  mean_track_charge  gen_target  \n",
       "0        2.454205       2.553548               -1.0           1  \n",
       "1       -0.656669       0.957972               -1.0           0  \n",
       "2        1.974619       2.189453               -1.0           1  \n",
       "3        0.961637       1.193328               -1.0           1  \n",
       "4        1.101976       1.130678               -1.0           0  \n",
       "\n",
       "[5 rows x 32 columns]"
      ]
     },
     "execution_count": 7,
     "metadata": {},
     "output_type": "execute_result"
    }
   ],
   "source": [
    "batch.head()"
   ]
  },
  {
   "cell_type": "code",
   "execution_count": 8,
   "metadata": {},
   "outputs": [
    {
     "name": "stdout",
     "output_type": "stream",
     "text": [
      "Running fold 1 /10\n"
     ]
    },
    {
     "ename": "TypeError",
     "evalue": "__init__() got an unexpected keyword argument 'n_jobs'",
     "output_type": "error",
     "traceback": [
      "\u001b[0;31m---------------------------------------------------------------------------\u001b[0m",
      "\u001b[0;31mTypeError\u001b[0m                                 Traceback (most recent call last)",
      "\u001b[0;32m<ipython-input-8-d87bd49991e3>\u001b[0m in \u001b[0;36m<module>\u001b[0;34m()\u001b[0m\n\u001b[0;32m----> 1\u001b[0;31m \u001b[0mget_ipython\u001b[0m\u001b[0;34m(\u001b[0m\u001b[0;34m)\u001b[0m\u001b[0;34m.\u001b[0m\u001b[0mrun_cell_magic\u001b[0m\u001b[0;34m(\u001b[0m\u001b[0;34mu'time'\u001b[0m\u001b[0;34m,\u001b[0m \u001b[0;34mu''\u001b[0m\u001b[0;34m,\u001b[0m \u001b[0;34mu\"\\nimportantFeatures = rankClassifierFeatures(batch, [x for x in batch.columns if 'gen' not in x])\"\u001b[0m\u001b[0;34m)\u001b[0m\u001b[0;34m\u001b[0m\u001b[0m\n\u001b[0m",
      "\u001b[0;32m/home/giles/anaconda2/lib/python2.7/site-packages/IPython/core/interactiveshell.pyc\u001b[0m in \u001b[0;36mrun_cell_magic\u001b[0;34m(self, magic_name, line, cell)\u001b[0m\n\u001b[1;32m   2115\u001b[0m             \u001b[0mmagic_arg_s\u001b[0m \u001b[0;34m=\u001b[0m \u001b[0mself\u001b[0m\u001b[0;34m.\u001b[0m\u001b[0mvar_expand\u001b[0m\u001b[0;34m(\u001b[0m\u001b[0mline\u001b[0m\u001b[0;34m,\u001b[0m \u001b[0mstack_depth\u001b[0m\u001b[0;34m)\u001b[0m\u001b[0;34m\u001b[0m\u001b[0m\n\u001b[1;32m   2116\u001b[0m             \u001b[0;32mwith\u001b[0m \u001b[0mself\u001b[0m\u001b[0;34m.\u001b[0m\u001b[0mbuiltin_trap\u001b[0m\u001b[0;34m:\u001b[0m\u001b[0;34m\u001b[0m\u001b[0m\n\u001b[0;32m-> 2117\u001b[0;31m                 \u001b[0mresult\u001b[0m \u001b[0;34m=\u001b[0m \u001b[0mfn\u001b[0m\u001b[0;34m(\u001b[0m\u001b[0mmagic_arg_s\u001b[0m\u001b[0;34m,\u001b[0m \u001b[0mcell\u001b[0m\u001b[0;34m)\u001b[0m\u001b[0;34m\u001b[0m\u001b[0m\n\u001b[0m\u001b[1;32m   2118\u001b[0m             \u001b[0;32mreturn\u001b[0m \u001b[0mresult\u001b[0m\u001b[0;34m\u001b[0m\u001b[0m\n\u001b[1;32m   2119\u001b[0m \u001b[0;34m\u001b[0m\u001b[0m\n",
      "\u001b[0;32m<decorator-gen-60>\u001b[0m in \u001b[0;36mtime\u001b[0;34m(self, line, cell, local_ns)\u001b[0m\n",
      "\u001b[0;32m/home/giles/anaconda2/lib/python2.7/site-packages/IPython/core/magic.pyc\u001b[0m in \u001b[0;36m<lambda>\u001b[0;34m(f, *a, **k)\u001b[0m\n\u001b[1;32m    186\u001b[0m     \u001b[0;31m# but it's overkill for just that one bit of state.\u001b[0m\u001b[0;34m\u001b[0m\u001b[0;34m\u001b[0m\u001b[0m\n\u001b[1;32m    187\u001b[0m     \u001b[0;32mdef\u001b[0m \u001b[0mmagic_deco\u001b[0m\u001b[0;34m(\u001b[0m\u001b[0marg\u001b[0m\u001b[0;34m)\u001b[0m\u001b[0;34m:\u001b[0m\u001b[0;34m\u001b[0m\u001b[0m\n\u001b[0;32m--> 188\u001b[0;31m         \u001b[0mcall\u001b[0m \u001b[0;34m=\u001b[0m \u001b[0;32mlambda\u001b[0m \u001b[0mf\u001b[0m\u001b[0;34m,\u001b[0m \u001b[0;34m*\u001b[0m\u001b[0ma\u001b[0m\u001b[0;34m,\u001b[0m \u001b[0;34m**\u001b[0m\u001b[0mk\u001b[0m\u001b[0;34m:\u001b[0m \u001b[0mf\u001b[0m\u001b[0;34m(\u001b[0m\u001b[0;34m*\u001b[0m\u001b[0ma\u001b[0m\u001b[0;34m,\u001b[0m \u001b[0;34m**\u001b[0m\u001b[0mk\u001b[0m\u001b[0;34m)\u001b[0m\u001b[0;34m\u001b[0m\u001b[0m\n\u001b[0m\u001b[1;32m    189\u001b[0m \u001b[0;34m\u001b[0m\u001b[0m\n\u001b[1;32m    190\u001b[0m         \u001b[0;32mif\u001b[0m \u001b[0mcallable\u001b[0m\u001b[0;34m(\u001b[0m\u001b[0marg\u001b[0m\u001b[0;34m)\u001b[0m\u001b[0;34m:\u001b[0m\u001b[0;34m\u001b[0m\u001b[0m\n",
      "\u001b[0;32m/home/giles/anaconda2/lib/python2.7/site-packages/IPython/core/magics/execution.pyc\u001b[0m in \u001b[0;36mtime\u001b[0;34m(self, line, cell, local_ns)\u001b[0m\n\u001b[1;32m   1191\u001b[0m         \u001b[0;32melse\u001b[0m\u001b[0;34m:\u001b[0m\u001b[0;34m\u001b[0m\u001b[0m\n\u001b[1;32m   1192\u001b[0m             \u001b[0mst\u001b[0m \u001b[0;34m=\u001b[0m \u001b[0mclock2\u001b[0m\u001b[0;34m(\u001b[0m\u001b[0;34m)\u001b[0m\u001b[0;34m\u001b[0m\u001b[0m\n\u001b[0;32m-> 1193\u001b[0;31m             \u001b[0;32mexec\u001b[0m\u001b[0;34m(\u001b[0m\u001b[0mcode\u001b[0m\u001b[0;34m,\u001b[0m \u001b[0mglob\u001b[0m\u001b[0;34m,\u001b[0m \u001b[0mlocal_ns\u001b[0m\u001b[0;34m)\u001b[0m\u001b[0;34m\u001b[0m\u001b[0m\n\u001b[0m\u001b[1;32m   1194\u001b[0m             \u001b[0mend\u001b[0m \u001b[0;34m=\u001b[0m \u001b[0mclock2\u001b[0m\u001b[0;34m(\u001b[0m\u001b[0;34m)\u001b[0m\u001b[0;34m\u001b[0m\u001b[0m\n\u001b[1;32m   1195\u001b[0m             \u001b[0mout\u001b[0m \u001b[0;34m=\u001b[0m \u001b[0mNone\u001b[0m\u001b[0;34m\u001b[0m\u001b[0m\n",
      "\u001b[0;32m<timed exec>\u001b[0m in \u001b[0;36m<module>\u001b[0;34m()\u001b[0m\n",
      "\u001b[0;32m/home/giles/ML_Tools/General/Feature_Selection.pyc\u001b[0m in \u001b[0;36mrankClassifierFeatures\u001b[0;34m(data, trainFeatures, weights, target, datatype)\u001b[0m\n\u001b[1;32m     40\u001b[0m         \u001b[0;32mprint\u001b[0m \u001b[0;34m\"Running fold\"\u001b[0m\u001b[0;34m,\u001b[0m \u001b[0mi\u001b[0m\u001b[0;34m+\u001b[0m\u001b[0;36m1\u001b[0m\u001b[0;34m,\u001b[0m \u001b[0;34m\"/10\"\u001b[0m\u001b[0;34m\u001b[0m\u001b[0m\n\u001b[1;32m     41\u001b[0m \u001b[0;34m\u001b[0m\u001b[0m\n\u001b[0;32m---> 42\u001b[0;31m         \u001b[0mxgbClass\u001b[0m \u001b[0;34m=\u001b[0m \u001b[0mXGBClassifier\u001b[0m\u001b[0;34m(\u001b[0m\u001b[0mn_jobs\u001b[0m\u001b[0;34m=\u001b[0m\u001b[0;36m4\u001b[0m\u001b[0;34m)\u001b[0m\u001b[0;34m\u001b[0m\u001b[0m\n\u001b[0m\u001b[1;32m     43\u001b[0m         \u001b[0;32mif\u001b[0m \u001b[0mweights\u001b[0m \u001b[0;34m!=\u001b[0m \u001b[0mNone\u001b[0m\u001b[0;34m:\u001b[0m\u001b[0;34m\u001b[0m\u001b[0m\n\u001b[1;32m     44\u001b[0m             \u001b[0mxgbClass\u001b[0m\u001b[0;34m.\u001b[0m\u001b[0mfit\u001b[0m\u001b[0;34m(\u001b[0m\u001b[0mX\u001b[0m\u001b[0;34m[\u001b[0m\u001b[0mtrain\u001b[0m\u001b[0;34m]\u001b[0m\u001b[0;34m,\u001b[0m \u001b[0my\u001b[0m\u001b[0;34m[\u001b[0m\u001b[0mtrain\u001b[0m\u001b[0;34m]\u001b[0m\u001b[0;34m,\u001b[0m \u001b[0msample_weight\u001b[0m\u001b[0;34m=\u001b[0m\u001b[0mw\u001b[0m\u001b[0;34m[\u001b[0m\u001b[0mtrain\u001b[0m\u001b[0;34m]\u001b[0m\u001b[0;34m)\u001b[0m\u001b[0;34m\u001b[0m\u001b[0m\n",
      "\u001b[0;31mTypeError\u001b[0m: __init__() got an unexpected keyword argument 'n_jobs'"
     ]
    }
   ],
   "source": [
    "%%time\n",
    "\n",
    "importantFeatures = rankClassifierFeatures(batch, [x for x in batch.columns if 'gen' not in x])"
   ]
  },
  {
   "cell_type": "code",
   "execution_count": 11,
   "metadata": {},
   "outputs": [
    {
     "name": "stdout",
     "output_type": "stream",
     "text": [
      "['ntracks', 'ntowers', 'jetMass', 'jetPt', 'max_track_pT', 'max_track_eta', 'min_track_eta', 'sum_tower_Ehad', 'max_tower_E', 'sum_track_pT', 'mean_tower_Eem', 'mean_track_pT', 'tower_Eem_frac', 'min_track_pT', 'sum_tower_Eem', 'min_tower_E', 'jetPhi', 'sum_tower_E', 'min_tower_eta', 'tower_Ehad_frac', 'max_tower_Eem', 'mean_tower_E', 'max_tower_Ehad', 'max_tower_eta', 'mean_tower_eta', 'jetEta', 'mean_tower_Ehad', 'mean_track_eta', 'min_tower_Eem']\n"
     ]
    }
   ],
   "source": [
    "features = filtered_features_0# importantFeatures[0]\n",
    "print features"
   ]
  },
  {
   "cell_type": "markdown",
   "metadata": {},
   "source": [
    "## Save data"
   ]
  },
  {
   "cell_type": "code",
   "execution_count": 12,
   "metadata": {},
   "outputs": [],
   "source": [
    "def getPipe(inData):\n",
    "    inputPipe, outputPipe = getPreProcPipes(normIn=normIn, pca=pca)\n",
    "    inputPipe.fit(inData[features].values.astype('float32'))\n",
    "    \n",
    "    with open(dirLoc + 'inputPipe.pkl', 'w') as fout:    \n",
    "        pickle.dump(inputPipe, fout)\n",
    "        \n",
    "    return inputPipe"
   ]
  },
  {
   "cell_type": "code",
   "execution_count": 13,
   "metadata": {},
   "outputs": [],
   "source": [
    "def saveBatch(inData, n, inputPipe, outFile):\n",
    "    grp = outFile.create_group('fold_' + str(n))\n",
    "    \n",
    "    X = inputPipe.transform(inData[features].values.astype('float32'))\n",
    "    inputs = grp.create_dataset(\"inputs\", shape=X.shape, dtype='float32')\n",
    "    inputs[...] = X\n",
    "    \n",
    "    y = inData['gen_target'].values.astype('int')\n",
    "    targets = grp.create_dataset(\"targets\", shape=y.shape, dtype='int')\n",
    "    targets[...] = y"
   ]
  },
  {
   "cell_type": "code",
   "execution_count": 14,
   "metadata": {},
   "outputs": [],
   "source": [
    "def prepareSample(sample,  mode, inputPipe, nSplit=10, nSave=10):\n",
    "    print \"Running\", mode\n",
    "    os.system('rm ' + dirLoc + mode + '.hdf5')\n",
    "    outFile = h5py.File(dirLoc + mode + '.hdf5', \"w\")\n",
    "\n",
    "    for i in xrange(nSave):\n",
    "        gluons = getBatch('gluons', sample, i, nSplit)\n",
    "        quarks = getBatch('quarks', sample, i, nSplit)\n",
    "        gluons['gen_target'] = getTarget('gluon')\n",
    "        quarks['gen_target'] = getTarget('quark')\n",
    "        batch = gluons.append(quarks, ignore_index=True)\n",
    "        batch = batch.sample(frac=1).reset_index(drop=True) #Shuffle\n",
    "        \n",
    "        if isinstance(inputPipe, types.NoneType):\n",
    "            print \"Fitting inputPipe\"\n",
    "            inputPipe = getPipe(batch)\n",
    "        \n",
    "        print \"Saving fold:\", i, \"of\", nSave, \"events\"\n",
    "        saveBatch(batch, i, inputPipe, outFile)\n",
    "        \n",
    "    return inputPipe"
   ]
  },
  {
   "cell_type": "code",
   "execution_count": 15,
   "metadata": {
    "scrolled": false
   },
   "outputs": [
    {
     "name": "stdout",
     "output_type": "stream",
     "text": [
      "Running train\n",
      "Fitting inputPipe\n",
      "Saving fold: 0 of 10 events\n",
      "Saving fold: 1 of 10 events\n",
      "Saving fold: 2 of 10 events\n",
      "Saving fold: 3 of 10 events\n",
      "Saving fold: 4 of 10 events\n",
      "Saving fold: 5 of 10 events\n",
      "Saving fold: 6 of 10 events\n",
      "Saving fold: 7 of 10 events\n",
      "Saving fold: 8 of 10 events\n",
      "Saving fold: 9 of 10 events\n",
      "Running testing\n",
      "Saving fold: 0 of 10 events\n",
      "Saving fold: 1 of 10 events\n",
      "Saving fold: 2 of 10 events\n",
      "Saving fold: 3 of 10 events\n",
      "Saving fold: 4 of 10 events\n",
      "Saving fold: 5 of 10 events\n",
      "Saving fold: 6 of 10 events\n",
      "Saving fold: 7 of 10 events\n",
      "Saving fold: 8 of 10 events\n",
      "Saving fold: 9 of 10 events\n"
     ]
    },
    {
     "data": {
      "text/plain": [
       "Pipeline(memory=None,\n",
       "     steps=[('normIn', StandardScaler(copy=True, with_mean=True, with_std=True)), ('pca', PCA(copy=True, iterated_power='auto', n_components=None, random_state=None,\n",
       "  svd_solver='auto', tol=0.0, whiten=False))])"
      ]
     },
     "execution_count": 15,
     "metadata": {},
     "output_type": "execute_result"
    }
   ],
   "source": [
    "inputPipe = prepareSample('standard', 'train', None, nSplit=100, nSave=10)\n",
    "prepareSample('modified', 'testing', inputPipe, nSplit=100, nSave=10)"
   ]
  },
  {
   "cell_type": "code",
   "execution_count": null,
   "metadata": {},
   "outputs": [],
   "source": []
  }
 ],
 "metadata": {
  "kernelspec": {
   "display_name": "Python 2",
   "language": "python",
   "name": "python2"
  },
  "language_info": {
   "codemirror_mode": {
    "name": "ipython",
    "version": 2
   },
   "file_extension": ".py",
   "mimetype": "text/x-python",
   "name": "python",
   "nbconvert_exporter": "python",
   "pygments_lexer": "ipython2",
   "version": "2.7.14"
  }
 },
 "nbformat": 4,
 "nbformat_minor": 2
}
